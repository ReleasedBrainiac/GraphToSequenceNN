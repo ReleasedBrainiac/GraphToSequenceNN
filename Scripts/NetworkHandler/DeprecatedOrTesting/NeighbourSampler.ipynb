{
 "cells": [
  {
   "cell_type": "code",
   "execution_count": 1,
   "metadata": {},
   "outputs": [
    {
     "name": "stdout",
     "output_type": "stream",
     "text": [
      "##### Load Variables #####\n"
     ]
    },
    {
     "name": "stderr",
     "output_type": "stream",
     "text": [
      "Using TensorFlow backend.\n"
     ]
    }
   ],
   "source": [
    "# - *- coding: utf- 8*-\n",
    "from LambdaNodeEmbedding import KerasEval as KE\n",
    "import numpy as np\n",
    "import tensorflow as tf\n",
    "from keras import backend as K\n",
    "from keras.models import Model\n",
    "from keras.callbacks import History\n",
    "\n",
    "concate_multiplier = 2\n",
    "in_dim = 5 * concate_multiplier\n",
    "out_dim = 10\n",
    "\n",
    "#These are the edges between the nodes.\n",
    "current = np.array( [\n",
    "                    [0,0.3,0.3,1,0.3],\n",
    "                    [0.1,0.3,1,0,0.2],\n",
    "                    [0,0.7,1,1,0.4],\n",
    "                    [0.8,0.2,1,1,0.2]\n",
    "                    ], dtype='float32')\n",
    "\n",
    "current_ten = K.variable (value=current, dtype='float32')\n",
    "\n",
    "################################\n",
    "\n",
    "neigbours = np.array([\n",
    "                     [0,1,1,1],\n",
    "                     [0,0,0,1],\n",
    "                     [0,0,0,0],\n",
    "                     [0,0,0,0]\n",
    "                     ], dtype='float32')\n",
    "\n",
    "neighbouring = K.variable (value=neigbours, dtype='float32')\n",
    "\n",
    "zero_vec = K.zeros(current[0,:].shape, dtype='float32')\n",
    "\n",
    "\n",
    "################################\n",
    "'''\n",
    "weights = np.array([\n",
    "                   [0, 0.3, 0.1, 1, 0.3],\n",
    "                   [1, 0.1, 0.1, 1, 0.9], \n",
    "                   [0, 0.3, 0.1, 0.9, 0.3],\n",
    "                   [0.6, 0.3, 1, 0.7, 0.1]\n",
    "                   ], dtype='float32')\n",
    "'''\n",
    "\n",
    "weight_array = np.random.rand(in_dim,out_dim)\n",
    "weights_ten = K.variable (value=weight_array, dtype='float32')\n",
    "\n",
    "print('##### Load Variables #####')"
   ]
  },
  {
   "cell_type": "code",
   "execution_count": 2,
   "metadata": {},
   "outputs": [
    {
     "name": "stdout",
     "output_type": "stream",
     "text": [
      "##### Load Support Functions #####\n"
     ]
    }
   ],
   "source": [
    "print('##### Load Support Functions #####')\n",
    "\n",
    "def ConsoleReporter(label, printable,evaluate=True):\n",
    "    if evaluate and AssertIsTensor(printable):\n",
    "        print(label,':\\n',KE(printable),'\\n')\n",
    "    else:\n",
    "        print(label,':\\n',printable,'\\n')\n",
    "        \n",
    "def AssertTensorShapeEqual(tensor_x, tensor_y):\n",
    "    assert (tensor_x.shape == tensor_y.shape), ('Assertion failed shapes dont match! [',tensor_x.shape,'] dont match \" [',tensor_y.shape,']')\n",
    "    \n",
    "def AssertVectorLength(vector_x, vector_y):\n",
    "    assert (vector_x.shape[0] == vector_y.shape[0]), ('Vector lenghts dont match! [',vector_x.shape[0],'] dont match \" [',vector_y.shape[0],']')    \n",
    "    \n",
    "def AssertTensorDotDim(tensor_x, tensor_y):\n",
    "    x_dim_0 = tensor_x.shape[0]\n",
    "    y_dim_1 = tensor_y.shape[1]\n",
    "    assert (x_dim_0 == y_dim_1),('Assertion failed for matrix multiplication cause [',x_dim_0,'] * [',y_dim_1,'] dont match!')\n",
    "    \n",
    "def AssertIsTensor(tensor):\n",
    "    return K.is_tensor(tensor)\n",
    "\n",
    "def AssertIsKerasTensor(tensor):\n",
    "    return K.is_keras_tensor(tensor)"
   ]
  },
  {
   "cell_type": "code",
   "execution_count": 3,
   "metadata": {},
   "outputs": [
    {
     "name": "stdout",
     "output_type": "stream",
     "text": [
      "##### Load Aggregation Step Functions #####\n"
     ]
    }
   ],
   "source": [
    "print('##### Load Aggregation Step Functions #####')\n",
    "def MaxPoolAggregator(vectors, axis=0):\n",
    "    return K.max(vectors, axis)\n",
    "\n",
    "def MeanAggregator(vectors, axis=0):\n",
    "    return K.mean(vectors, axis)\n",
    "\n",
    "def PerformAggregator(found_vectors, features_shape, axis=0, aggregator='mean'):\n",
    "    aggregated = None\n",
    "    \n",
    "    if (aggregator=='mean'):\n",
    "        aggregated = MeanAggregator(found_vectors, axis)\n",
    "    else:\n",
    "        aggregated = MaxPoolAggregator(found_vectors, axis)\n",
    "            \n",
    "    AssertTensorShapeEqual(aggregated, features_shape)\n",
    "    return aggregated\n",
    "\n",
    "\n",
    "def GetSingleVectorFeatures(max_neighbours, vertex_neighbours, last_features):\n",
    "    found_neigbours = []\n",
    "    \n",
    "    if KE(K.sum(vertex_neighbours)) > 0:\n",
    "        for k in range(max_neighbours):\n",
    "                if vertex_neighbours[k].eval() > 0.999999:\n",
    "                    found_neigbours.append(last_features[k, :])\n",
    "\n",
    "        assert (len(found_neigbours) == KE(K.sum(vertex_neighbours))), ('Amount of existing neigbours did not match the found neigbours count!') \n",
    "        \n",
    "    return found_neigbours\n",
    "\n",
    "\n",
    "def GetAllVectorsFeatures(iterator, last_features, in_neighbouring, axis=0, aggregator='mean'):\n",
    "    updated_features = []\n",
    "    for i in range(iterator):\n",
    "        vertex_neighbours = in_neighbouring[i,:]\n",
    "        max_neighbours = vertex_neighbours.shape[0]\n",
    "        found_neigbours = GetSingleVectorFeatures(max_neighbours, vertex_neighbours, last_features)\n",
    "        \n",
    "        if len(found_neigbours) < 1: found_neigbours.append(zero_vec)\n",
    "             \n",
    "        found_vectors = K.variable(value=found_neigbours, dtype='float32')\n",
    "        updated_features.append(PerformAggregator(found_vectors, last_features[0,:], 0, aggregator))\n",
    "        \n",
    "        \n",
    "    final_features = K.stack(updated_features)\n",
    "    AssertTensorShapeEqual(last_features, final_features)\n",
    "    return final_features\n",
    "\n",
    "\n",
    "def GetNewFeatures(last_features, in_neighbouring):\n",
    "    AssertIsTensor(last_features)\n",
    "    AssertIsTensor(in_neighbouring)\n",
    "    AssertTensorDotDim(last_features, in_neighbouring)\n",
    "    final_features = GetAllVectorsFeatures(in_neighbouring.shape[0],\n",
    "                                           last_features, \n",
    "                                           in_neighbouring,\n",
    "                                           0,\n",
    "                                           'max')\n",
    "    return final_features\n",
    "        "
   ]
  },
  {
   "cell_type": "code",
   "execution_count": 4,
   "metadata": {},
   "outputs": [
    {
     "name": "stdout",
     "output_type": "stream",
     "text": [
      "##### Load Concatenation Step Functions #####\n"
     ]
    }
   ],
   "source": [
    "print('##### Load Concatenation Step Functions #####')\n",
    "\n",
    "def ControledConcatenation(prev_features, new_features, axis=1):\n",
    "    AssertIsTensor(prev_features)\n",
    "    AssertIsTensor(new_features)\n",
    "    AssertVectorLength(prev_features[0,:], new_features[0,:])\n",
    "    return K.concatenate([prev_features, new_features], axis)    "
   ]
  },
  {
   "cell_type": "code",
   "execution_count": 5,
   "metadata": {},
   "outputs": [
    {
     "name": "stdout",
     "output_type": "stream",
     "text": [
      "##### Execute #####\n",
      "Inits :\n",
      " [[0.  0.3 0.3 1.  0.3]\n",
      " [0.1 0.3 1.  0.  0.2]\n",
      " [0.  0.7 1.  1.  0.4]\n",
      " [0.8 0.2 1.  1.  0.2]] \n",
      "\n",
      "Neighbouring :\n",
      " [[0. 1. 1. 1.]\n",
      " [0. 0. 0. 1.]\n",
      " [0. 0. 0. 0.]\n",
      " [0. 0. 0. 0.]] \n",
      "\n",
      "Results :\n",
      " Tensor(\"stack:0\", shape=(4, 5), dtype=float32) \n",
      "\n",
      "concatenated :\n",
      " Tensor(\"concat:0\", shape=(4, 10), dtype=float32) \n",
      "\n",
      "[[0.2975325  0.8380124  0.7189067  0.5091476  0.0704146  0.83534306\n",
      "  0.64218426 0.67020065 0.3281497  0.37891614]\n",
      " [0.87482077 0.73889554 0.7336551  0.9914017  0.3494411  0.40586993\n",
      "  0.13665293 0.55139637 0.47434765 0.07291498]\n",
      " [0.9437597  0.35771915 0.29451755 0.5256096  0.43880516 0.01528344\n",
      "  0.740657   0.48041975 0.90161043 0.36623594]\n",
      " [0.8996198  0.12548134 0.47848797 0.33944732 0.10810245 0.8927751\n",
      "  0.40413842 0.00495444 0.8827185  0.4213006 ]\n",
      " [0.24523854 0.7156841  0.8110689  0.3720916  0.39917877 0.39250183\n",
      "  0.48664686 0.03899949 0.16208604 0.78932136]\n",
      " [0.13245223 0.22343852 0.37164304 0.12205135 0.7486904  0.01197008\n",
      "  0.31509995 0.5491979  0.4861108  0.22113526]\n",
      " [0.00908424 0.00973305 0.7715575  0.49644265 0.07732131 0.38423273\n",
      "  0.3979952  0.46697077 0.7542838  0.9626154 ]\n",
      " [0.02195377 0.8456941  0.40152153 0.52495766 0.65362954 0.01127157\n",
      "  0.15989292 0.46086347 0.03278191 0.75164413]\n",
      " [0.12752663 0.84752697 0.24272448 0.997844   0.758895   0.95275944\n",
      "  0.79823565 0.31021857 0.50410235 0.8481505 ]\n",
      " [0.5907638  0.5548201  0.49446085 0.07412805 0.04392679 0.13235933\n",
      "  0.20867585 0.5365311  0.7690718  0.24884453]]\n"
     ]
    }
   ],
   "source": [
    "print('##### Execute #####')\n",
    "\n",
    "\n",
    "sess = tf.Session()\n",
    "K.set_session(sess)\n",
    "init = tf.global_variables_initializer()\n",
    "with sess:\n",
    "    init.run()\n",
    "    init_vecs = current_ten\n",
    "    #concat_vecs = K.concatenate([init_vecs, next_vecs], axis=1)\n",
    "    \n",
    "    #ConsoleReporter('Old_Features', init_vecs, True)\n",
    "    #ConsoleReporter('Next_Features', next_vecs, True)\n",
    "    #ConsoleReporter('N_Concatenation',concat_vecs,True)\n",
    "\n",
    "    ConsoleReporter('Inits',init_vecs,True)\n",
    "    ConsoleReporter('Neighbouring',neighbouring,True)\n",
    "    agg_features = GetNewFeatures(init_vecs, neighbouring)\n",
    "    ConsoleReporter('Results',agg_features,False)\n",
    "    \n",
    "    concatenated = ControledConcatenation(init_vecs, agg_features)\n",
    "    ConsoleReporter('concatenated',concatenated,False)\n",
    "    \n",
    "    print(KE(weights_ten))\n",
    "    "
   ]
  },
  {
   "cell_type": "code",
   "execution_count": null,
   "metadata": {},
   "outputs": [],
   "source": []
  }
 ],
 "metadata": {
  "kernelspec": {
   "display_name": "Python 3",
   "language": "python",
   "name": "python3"
  },
  "language_info": {
   "codemirror_mode": {
    "name": "ipython",
    "version": 3
   },
   "file_extension": ".py",
   "mimetype": "text/x-python",
   "name": "python",
   "nbconvert_exporter": "python",
   "pygments_lexer": "ipython3",
   "version": "3.6.5"
  }
 },
 "nbformat": 4,
 "nbformat_minor": 2
}
