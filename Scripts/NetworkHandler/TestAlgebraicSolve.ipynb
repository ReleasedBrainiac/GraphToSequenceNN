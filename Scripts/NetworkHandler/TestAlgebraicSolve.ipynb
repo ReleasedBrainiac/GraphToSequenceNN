{
 "cells": [
  {
   "cell_type": "code",
   "execution_count": 5,
   "metadata": {},
   "outputs": [],
   "source": [
    "# - *- coding: utf- 8*-\n",
    "from LambdaNodeEmbedding import GetKerasNAP, KerasEval\n",
    "import numpy as np\n",
    "import tensorflow as tf\n",
    "from keras import backend as K\n",
    "from keras.models import Model\n",
    "from keras.callbacks import History\n",
    "\n",
    "#These are the edges between the nodes.\n",
    "edgelist = np.array([\n",
    "                    [0,1,1,1],\n",
    "                    [0,0,0,1],\n",
    "                    [0,1,0,0],\n",
    "                    [0,0,0,0]\n",
    "                    ], dtype='float32')\n",
    "\n",
    "edgelist_ten = K.variable(value=edgelist, dtype='float32')\n",
    "new_x_x_x = tf.concat([edgelist_ten[0,:],edgelist_ten[1,:]], 0)\n",
    "\n",
    "def GetXDepth(matrix):\n",
    "    if len(matrix.shape) > 0:\n",
    "        return matrix.shape[0]\n",
    "    else:\n",
    "        return 1\n",
    "\n",
    "def GetYDepth(matrix):\n",
    "    if len(matrix.shape) > 1:\n",
    "        return matrix.shape[1]\n",
    "    else:\n",
    "        return 1\n",
    "\n",
    "def BuildZeroedConcatRow(edge_row, index):\n",
    "    zero_calc = tf.zeros((index,), tf.float32)    \n",
    "    keep_calc =  tf.ones(((edge_row.shape[0]-index),), tf.float32)\n",
    "    concat_calc = tf.concat([zero_calc,keep_calc],0)\n",
    "    result = tf.multiply(concat_calc, edge_row) \n",
    "    return result\n",
    "\n",
    "def IndexOutOfBounds(edge_row, index):\n",
    "    if index <= edge_row.shape[0]:\n",
    "        return BuildZeroedConcatRow(edge_row, index)\n",
    "    else:\n",
    "        return tf.zeros(edge_row.shape, tf.float32) \n",
    "\n",
    "def ZerofyUnderIndexInRow(edge_row, index):\n",
    "    if index < 1:\n",
    "        return edge_row\n",
    "    else: \n",
    "        return IndexOutOfBounds(edge_row, index)\n",
    "\n",
    "def ZerofyUnderPrincipalDiagonal(edge_emb, result_emb, iterator):\n",
    "    \n",
    "    #Condition => if current iteration is lower as max iterations\n",
    "    def cond(edge_emb, result_emb, i):\n",
    "         return tf.less(i, iterator)\n",
    "\n",
    "    #Loop Body Processing Unit => get all connection dependencies\n",
    "    def body(edge_emb, result_emb, i):\n",
    "        \n",
    "        print(i)\n",
    "        result_row = ZerofyUnderIndexInRow(edge_emb[i,:], i)\n",
    "        \n",
    "        #Store result in Tensorarray result_emb\n",
    "        result_emb = result_row.write(i, [result_row])\n",
    "        \n",
    "        #Add +1 to Iterator and return process result!\n",
    "        return [edge_emb, result_emb, tf.add(i, 1)]\n",
    "\n",
    "    #return the loop setup\n",
    "    return tf.while_loop(cond, body, [edge_emb, result_emb, 0])\n",
    "\n",
    "\n",
    "init = tf.global_variables_initializer()\n"
   ]
  },
  {
   "cell_type": "code",
   "execution_count": 6,
   "metadata": {},
   "outputs": [
    {
     "name": "stdout",
     "output_type": "stream",
     "text": [
      "New_x_d:  8\n",
      "New_y_d:  1\n",
      "El_x_d:  4\n",
      "El_y_d:  4\n",
      "[0. 1. 1. 1. 0. 0. 0. 1.]\n",
      "\n",
      "#######\n",
      "\n",
      "[0. 0. 0. 1. 0. 0. 0. 1.]\n",
      "\n",
      "#######\n",
      "\n",
      "[0. 0. 0. 0. 0. 0. 0. 1.]\n",
      "\n",
      "#######\n",
      "\n",
      "[0. 0. 0. 0. 0. 0. 0. 0.]\n"
     ]
    }
   ],
   "source": [
    "with tf.Session() as sess:\n",
    "    init.run()\n",
    "\n",
    "    print('New_x_d: ',GetXDepth(new_x_x_x))\n",
    "    print('New_y_d: ',GetYDepth(new_x_x_x))\n",
    "    print('El_x_d: ',GetXDepth(edgelist_ten))\n",
    "    print('El_y_d: ',GetYDepth(edgelist_ten))\n",
    "\n",
    "    print(KerasEval(BuildZeroedConcatRow(new_x_x_x, 1)))\n",
    "    print('\\n#######\\n')\n",
    "    print(KerasEval(BuildZeroedConcatRow(new_x_x_x, 3)))\n",
    "    print('\\n#######\\n')\n",
    "    print(KerasEval(BuildZeroedConcatRow(new_x_x_x, 5)))\n",
    "    print('\\n#######\\n')\n",
    "    print(KerasEval(BuildZeroedConcatRow(new_x_x_x, 8)))"
   ]
  },
  {
   "cell_type": "code",
   "execution_count": 7,
   "metadata": {},
   "outputs": [
    {
     "name": "stdout",
     "output_type": "stream",
     "text": [
      "\n",
      "#######\n",
      "#######\n",
      "#######\n",
      "\n",
      "[0. 1. 1. 1. 0. 0. 0. 1.]\n",
      "\n",
      "#######\n",
      "\n",
      "[0. 1. 1. 1. 0. 0. 0. 1.]\n",
      "\n",
      "#######\n",
      "\n",
      "[0. 0. 0. 1. 0. 0. 0. 1.]\n",
      "\n",
      "#######\n",
      "\n",
      "[0. 0. 0. 0. 0. 0. 0. 0.]\n"
     ]
    }
   ],
   "source": [
    "with tf.Session() as sess:\n",
    "    init.run()\n",
    "    \n",
    "    print('\\n#######')\n",
    "    print('#######')\n",
    "    print('#######\\n')\n",
    "    \n",
    "    print(KerasEval(ZerofyUnderIndexInRow(new_x_x_x, -1)))\n",
    "    print('\\n#######\\n')\n",
    "    print(KerasEval(ZerofyUnderIndexInRow(new_x_x_x, 1)))\n",
    "    print('\\n#######\\n')\n",
    "    print(KerasEval(ZerofyUnderIndexInRow(new_x_x_x, 3)))\n",
    "    print('\\n#######\\n')\n",
    "    print(KerasEval(ZerofyUnderIndexInRow(new_x_x_x, 9)))"
   ]
  },
  {
   "cell_type": "code",
   "execution_count": 8,
   "metadata": {},
   "outputs": [
    {
     "name": "stdout",
     "output_type": "stream",
     "text": [
      "\n",
      "#######\n",
      "#######\n",
      "#######\n",
      "\n",
      "Tensor(\"while_1/Identity_2:0\", shape=(), dtype=int32)\n"
     ]
    },
    {
     "ename": "TypeError",
     "evalue": "Using a `tf.Tensor` as a Python `bool` is not allowed. Use `if t is not None:` instead of `if t:` to test if a tensor is defined, and use TensorFlow ops such as tf.cond to execute subgraphs conditioned on the value of a tensor.",
     "output_type": "error",
     "traceback": [
      "\u001b[1;31m---------------------------------------------------------------------------\u001b[0m",
      "\u001b[1;31mTypeError\u001b[0m                                 Traceback (most recent call last)",
      "\u001b[1;32m<ipython-input-8-cc259ce12494>\u001b[0m in \u001b[0;36m<module>\u001b[1;34m()\u001b[0m\n\u001b[0;32m      6\u001b[0m     \u001b[0mprint\u001b[0m\u001b[1;33m(\u001b[0m\u001b[1;34m'#######\\n'\u001b[0m\u001b[1;33m)\u001b[0m\u001b[1;33m\u001b[0m\u001b[0m\n\u001b[0;32m      7\u001b[0m \u001b[1;33m\u001b[0m\u001b[0m\n\u001b[1;32m----> 8\u001b[1;33m     \u001b[0mprint\u001b[0m\u001b[1;33m(\u001b[0m\u001b[0mKerasEval\u001b[0m\u001b[1;33m(\u001b[0m\u001b[0mZerofyUnderPrincipalDiagonal\u001b[0m\u001b[1;33m(\u001b[0m\u001b[0medgelist_ten\u001b[0m\u001b[1;33m,\u001b[0m\u001b[0medgelist_ten\u001b[0m\u001b[1;33m,\u001b[0m\u001b[0medgelist_ten\u001b[0m\u001b[1;33m.\u001b[0m\u001b[0mshape\u001b[0m\u001b[1;33m[\u001b[0m\u001b[1;36m1\u001b[0m\u001b[1;33m]\u001b[0m\u001b[1;33m)\u001b[0m\u001b[1;33m)\u001b[0m\u001b[1;33m)\u001b[0m\u001b[1;33m\u001b[0m\u001b[0m\n\u001b[0m",
      "\u001b[1;32m<ipython-input-5-adb003b396cf>\u001b[0m in \u001b[0;36mZerofyUnderPrincipalDiagonal\u001b[1;34m(edge_emb, result_emb, iterator)\u001b[0m\n\u001b[0;32m     68\u001b[0m \u001b[1;33m\u001b[0m\u001b[0m\n\u001b[0;32m     69\u001b[0m     \u001b[1;31m#return the loop setup\u001b[0m\u001b[1;33m\u001b[0m\u001b[1;33m\u001b[0m\u001b[0m\n\u001b[1;32m---> 70\u001b[1;33m     \u001b[1;32mreturn\u001b[0m \u001b[0mtf\u001b[0m\u001b[1;33m.\u001b[0m\u001b[0mwhile_loop\u001b[0m\u001b[1;33m(\u001b[0m\u001b[0mcond\u001b[0m\u001b[1;33m,\u001b[0m \u001b[0mbody\u001b[0m\u001b[1;33m,\u001b[0m \u001b[1;33m[\u001b[0m\u001b[0medge_emb\u001b[0m\u001b[1;33m,\u001b[0m \u001b[0mresult_emb\u001b[0m\u001b[1;33m,\u001b[0m \u001b[1;36m0\u001b[0m\u001b[1;33m]\u001b[0m\u001b[1;33m)\u001b[0m\u001b[1;33m\u001b[0m\u001b[0m\n\u001b[0m\u001b[0;32m     71\u001b[0m \u001b[1;33m\u001b[0m\u001b[0m\n\u001b[0;32m     72\u001b[0m \u001b[1;33m\u001b[0m\u001b[0m\n",
      "\u001b[1;32mc:\\users\\softw\\appdata\\local\\programs\\python\\python36\\lib\\site-packages\\tensorflow\\python\\ops\\control_flow_ops.py\u001b[0m in \u001b[0;36mwhile_loop\u001b[1;34m(cond, body, loop_vars, shape_invariants, parallel_iterations, back_prop, swap_memory, name, maximum_iterations, return_same_structure)\u001b[0m\n\u001b[0;32m   3289\u001b[0m       \u001b[0mops\u001b[0m\u001b[1;33m.\u001b[0m\u001b[0madd_to_collection\u001b[0m\u001b[1;33m(\u001b[0m\u001b[0mops\u001b[0m\u001b[1;33m.\u001b[0m\u001b[0mGraphKeys\u001b[0m\u001b[1;33m.\u001b[0m\u001b[0mWHILE_CONTEXT\u001b[0m\u001b[1;33m,\u001b[0m \u001b[0mloop_context\u001b[0m\u001b[1;33m)\u001b[0m\u001b[1;33m\u001b[0m\u001b[0m\n\u001b[0;32m   3290\u001b[0m     result = loop_context.BuildLoop(cond, body, loop_vars, shape_invariants,\n\u001b[1;32m-> 3291\u001b[1;33m                                     return_same_structure)\n\u001b[0m\u001b[0;32m   3292\u001b[0m     \u001b[1;32mif\u001b[0m \u001b[0mmaximum_iterations\u001b[0m \u001b[1;32mis\u001b[0m \u001b[1;32mnot\u001b[0m \u001b[1;32mNone\u001b[0m\u001b[1;33m:\u001b[0m\u001b[1;33m\u001b[0m\u001b[0m\n\u001b[0;32m   3293\u001b[0m       \u001b[1;32mreturn\u001b[0m \u001b[0mresult\u001b[0m\u001b[1;33m[\u001b[0m\u001b[1;36m1\u001b[0m\u001b[1;33m]\u001b[0m\u001b[1;33m\u001b[0m\u001b[0m\n",
      "\u001b[1;32mc:\\users\\softw\\appdata\\local\\programs\\python\\python36\\lib\\site-packages\\tensorflow\\python\\ops\\control_flow_ops.py\u001b[0m in \u001b[0;36mBuildLoop\u001b[1;34m(self, pred, body, loop_vars, shape_invariants, return_same_structure)\u001b[0m\n\u001b[0;32m   3002\u001b[0m       \u001b[1;32mwith\u001b[0m \u001b[0mops\u001b[0m\u001b[1;33m.\u001b[0m\u001b[0mget_default_graph\u001b[0m\u001b[1;33m(\u001b[0m\u001b[1;33m)\u001b[0m\u001b[1;33m.\u001b[0m\u001b[0m_mutation_lock\u001b[0m\u001b[1;33m(\u001b[0m\u001b[1;33m)\u001b[0m\u001b[1;33m:\u001b[0m  \u001b[1;31m# pylint: disable=protected-access\u001b[0m\u001b[1;33m\u001b[0m\u001b[0m\n\u001b[0;32m   3003\u001b[0m         original_body_result, exit_vars = self._BuildLoop(\n\u001b[1;32m-> 3004\u001b[1;33m             pred, body, original_loop_vars, loop_vars, shape_invariants)\n\u001b[0m\u001b[0;32m   3005\u001b[0m     \u001b[1;32mfinally\u001b[0m\u001b[1;33m:\u001b[0m\u001b[1;33m\u001b[0m\u001b[0m\n\u001b[0;32m   3006\u001b[0m       \u001b[0mself\u001b[0m\u001b[1;33m.\u001b[0m\u001b[0mExit\u001b[0m\u001b[1;33m(\u001b[0m\u001b[1;33m)\u001b[0m\u001b[1;33m\u001b[0m\u001b[0m\n",
      "\u001b[1;32mc:\\users\\softw\\appdata\\local\\programs\\python\\python36\\lib\\site-packages\\tensorflow\\python\\ops\\control_flow_ops.py\u001b[0m in \u001b[0;36m_BuildLoop\u001b[1;34m(self, pred, body, original_loop_vars, loop_vars, shape_invariants)\u001b[0m\n\u001b[0;32m   2937\u001b[0m         flat_sequence=vars_for_body_with_tensor_arrays)\n\u001b[0;32m   2938\u001b[0m     \u001b[0mpre_summaries\u001b[0m \u001b[1;33m=\u001b[0m \u001b[0mops\u001b[0m\u001b[1;33m.\u001b[0m\u001b[0mget_collection\u001b[0m\u001b[1;33m(\u001b[0m\u001b[0mops\u001b[0m\u001b[1;33m.\u001b[0m\u001b[0mGraphKeys\u001b[0m\u001b[1;33m.\u001b[0m\u001b[0m_SUMMARY_COLLECTION\u001b[0m\u001b[1;33m)\u001b[0m  \u001b[1;31m# pylint: disable=protected-access\u001b[0m\u001b[1;33m\u001b[0m\u001b[0m\n\u001b[1;32m-> 2939\u001b[1;33m     \u001b[0mbody_result\u001b[0m \u001b[1;33m=\u001b[0m \u001b[0mbody\u001b[0m\u001b[1;33m(\u001b[0m\u001b[1;33m*\u001b[0m\u001b[0mpacked_vars_for_body\u001b[0m\u001b[1;33m)\u001b[0m\u001b[1;33m\u001b[0m\u001b[0m\n\u001b[0m\u001b[0;32m   2940\u001b[0m     \u001b[0mpost_summaries\u001b[0m \u001b[1;33m=\u001b[0m \u001b[0mops\u001b[0m\u001b[1;33m.\u001b[0m\u001b[0mget_collection\u001b[0m\u001b[1;33m(\u001b[0m\u001b[0mops\u001b[0m\u001b[1;33m.\u001b[0m\u001b[0mGraphKeys\u001b[0m\u001b[1;33m.\u001b[0m\u001b[0m_SUMMARY_COLLECTION\u001b[0m\u001b[1;33m)\u001b[0m  \u001b[1;31m# pylint: disable=protected-access\u001b[0m\u001b[1;33m\u001b[0m\u001b[0m\n\u001b[0;32m   2941\u001b[0m     \u001b[1;32mif\u001b[0m \u001b[1;32mnot\u001b[0m \u001b[0mnest\u001b[0m\u001b[1;33m.\u001b[0m\u001b[0mis_sequence\u001b[0m\u001b[1;33m(\u001b[0m\u001b[0mbody_result\u001b[0m\u001b[1;33m)\u001b[0m\u001b[1;33m:\u001b[0m\u001b[1;33m\u001b[0m\u001b[0m\n",
      "\u001b[1;32m<ipython-input-5-adb003b396cf>\u001b[0m in \u001b[0;36mbody\u001b[1;34m(edge_emb, result_emb, i)\u001b[0m\n\u001b[0;32m     59\u001b[0m \u001b[1;33m\u001b[0m\u001b[0m\n\u001b[0;32m     60\u001b[0m         \u001b[0mprint\u001b[0m\u001b[1;33m(\u001b[0m\u001b[0mi\u001b[0m\u001b[1;33m)\u001b[0m\u001b[1;33m\u001b[0m\u001b[0m\n\u001b[1;32m---> 61\u001b[1;33m         \u001b[0mresult_row\u001b[0m \u001b[1;33m=\u001b[0m \u001b[0mZerofyUnderIndexInRow\u001b[0m\u001b[1;33m(\u001b[0m\u001b[0medge_emb\u001b[0m\u001b[1;33m[\u001b[0m\u001b[0mi\u001b[0m\u001b[1;33m,\u001b[0m\u001b[1;33m:\u001b[0m\u001b[1;33m]\u001b[0m\u001b[1;33m,\u001b[0m \u001b[0mi\u001b[0m\u001b[1;33m)\u001b[0m\u001b[1;33m\u001b[0m\u001b[0m\n\u001b[0m\u001b[0;32m     62\u001b[0m \u001b[1;33m\u001b[0m\u001b[0m\n\u001b[0;32m     63\u001b[0m         \u001b[1;31m#Store result in Tensorarray result_emb\u001b[0m\u001b[1;33m\u001b[0m\u001b[1;33m\u001b[0m\u001b[0m\n",
      "\u001b[1;32m<ipython-input-5-adb003b396cf>\u001b[0m in \u001b[0;36mZerofyUnderIndexInRow\u001b[1;34m(edge_row, index)\u001b[0m\n\u001b[0;32m     44\u001b[0m \u001b[1;33m\u001b[0m\u001b[0m\n\u001b[0;32m     45\u001b[0m \u001b[1;32mdef\u001b[0m \u001b[0mZerofyUnderIndexInRow\u001b[0m\u001b[1;33m(\u001b[0m\u001b[0medge_row\u001b[0m\u001b[1;33m,\u001b[0m \u001b[0mindex\u001b[0m\u001b[1;33m)\u001b[0m\u001b[1;33m:\u001b[0m\u001b[1;33m\u001b[0m\u001b[0m\n\u001b[1;32m---> 46\u001b[1;33m     \u001b[1;32mif\u001b[0m \u001b[0mindex\u001b[0m \u001b[1;33m<\u001b[0m \u001b[1;36m1\u001b[0m\u001b[1;33m:\u001b[0m\u001b[1;33m\u001b[0m\u001b[0m\n\u001b[0m\u001b[0;32m     47\u001b[0m         \u001b[1;32mreturn\u001b[0m \u001b[0medge_row\u001b[0m\u001b[1;33m\u001b[0m\u001b[0m\n\u001b[0;32m     48\u001b[0m     \u001b[1;32melse\u001b[0m\u001b[1;33m:\u001b[0m\u001b[1;33m\u001b[0m\u001b[0m\n",
      "\u001b[1;32mc:\\users\\softw\\appdata\\local\\programs\\python\\python36\\lib\\site-packages\\tensorflow\\python\\framework\\ops.py\u001b[0m in \u001b[0;36m__bool__\u001b[1;34m(self)\u001b[0m\n\u001b[0;32m    669\u001b[0m       \u001b[0;31m`\u001b[0m\u001b[0mTypeError\u001b[0m\u001b[0;31m`\u001b[0m\u001b[1;33m.\u001b[0m\u001b[1;33m\u001b[0m\u001b[0m\n\u001b[0;32m    670\u001b[0m     \"\"\"\n\u001b[1;32m--> 671\u001b[1;33m     raise TypeError(\"Using a `tf.Tensor` as a Python `bool` is not allowed. \"\n\u001b[0m\u001b[0;32m    672\u001b[0m                     \u001b[1;34m\"Use `if t is not None:` instead of `if t:` to test if a \"\u001b[0m\u001b[1;33m\u001b[0m\u001b[0m\n\u001b[0;32m    673\u001b[0m                     \u001b[1;34m\"tensor is defined, and use TensorFlow ops such as \"\u001b[0m\u001b[1;33m\u001b[0m\u001b[0m\n",
      "\u001b[1;31mTypeError\u001b[0m: Using a `tf.Tensor` as a Python `bool` is not allowed. Use `if t is not None:` instead of `if t:` to test if a tensor is defined, and use TensorFlow ops such as tf.cond to execute subgraphs conditioned on the value of a tensor."
     ]
    }
   ],
   "source": [
    "with tf.Session() as sess:\n",
    "    init.run()\n",
    "    \n",
    "    print('\\n#######')\n",
    "    print('#######')\n",
    "    print('#######\\n')\n",
    "    \n",
    "    print(KerasEval(ZerofyUnderPrincipalDiagonal(edgelist_ten,edgelist_ten,edgelist_ten.shape[1])))"
   ]
  },
  {
   "cell_type": "code",
   "execution_count": null,
   "metadata": {},
   "outputs": [],
   "source": []
  }
 ],
 "metadata": {
  "kernelspec": {
   "display_name": "Python 3",
   "language": "python",
   "name": "python3"
  },
  "language_info": {
   "codemirror_mode": {
    "name": "ipython",
    "version": 3
   },
   "file_extension": ".py",
   "mimetype": "text/x-python",
   "name": "python",
   "nbconvert_exporter": "python",
   "pygments_lexer": "ipython3",
   "version": "3.6.5"
  }
 },
 "nbformat": 4,
 "nbformat_minor": 2
}
