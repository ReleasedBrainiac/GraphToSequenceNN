{
 "cells": [
  {
   "cell_type": "code",
   "execution_count": 2,
   "metadata": {},
   "outputs": [
    {
     "ename": "ModuleNotFoundError",
     "evalue": "No module named 'GetKerasInputLayerPairs'",
     "output_type": "error",
     "traceback": [
      "\u001b[1;31m---------------------------------------------------------------------------\u001b[0m",
      "\u001b[1;31mModuleNotFoundError\u001b[0m                       Traceback (most recent call last)",
      "\u001b[1;32m<ipython-input-2-7509b05a371e>\u001b[0m in \u001b[0;36m<module>\u001b[1;34m()\u001b[0m\n\u001b[0;32m      1\u001b[0m \u001b[1;31m# - *- coding: utf- 8*-\u001b[0m\u001b[1;33m\u001b[0m\u001b[1;33m\u001b[0m\u001b[0m\n\u001b[0;32m      2\u001b[0m \u001b[1;32mfrom\u001b[0m \u001b[0mLambdaNodeEmbedding\u001b[0m \u001b[1;32mimport\u001b[0m \u001b[0mGetKerasNAP\u001b[0m\u001b[1;33m,\u001b[0m \u001b[0mKerasEval\u001b[0m\u001b[1;33m\u001b[0m\u001b[0m\n\u001b[1;32m----> 3\u001b[1;33m \u001b[1;32mimport\u001b[0m \u001b[0mGetKerasInputLayerPairs\u001b[0m\u001b[1;33m,\u001b[0m \u001b[0mGetMyKerasLambda\u001b[0m\u001b[1;33m,\u001b[0m \u001b[0mGetTestDense\u001b[0m\u001b[1;33m\u001b[0m\u001b[0m\n\u001b[0m\u001b[0;32m      4\u001b[0m \u001b[1;32mimport\u001b[0m \u001b[0mnumpy\u001b[0m \u001b[1;32mas\u001b[0m \u001b[0mnp\u001b[0m\u001b[1;33m\u001b[0m\u001b[0m\n\u001b[0;32m      5\u001b[0m \u001b[1;32mfrom\u001b[0m \u001b[0mkeras\u001b[0m \u001b[1;32mimport\u001b[0m \u001b[0mbackend\u001b[0m \u001b[1;32mas\u001b[0m \u001b[0mK\u001b[0m\u001b[1;33m\u001b[0m\u001b[0m\n",
      "\u001b[1;31mModuleNotFoundError\u001b[0m: No module named 'GetKerasInputLayerPairs'"
     ]
    }
   ],
   "source": [
    "# - *- coding: utf- 8*-\n",
    "from LambdaNodeEmbedding import GetKerasNAP, KerasEval\n",
    "from LayerBuilder import CustomLayerDefinitionse\n",
    "import numpy as np\n",
    "from keras import backend as K\n",
    "from keras.models import Model\n",
    "from keras.callbacks import History\n",
    "\n",
    "#These are the edges between the nodes.\n",
    "edgelist = np.array([\n",
    "                    [0,1,1,1],\n",
    "                    [0,0,0,1],\n",
    "                    [0,1,0,0],\n",
    "                    [0,0,0,0]\n",
    "                    ], dtype='float32')\n",
    "\n",
    "#These are the node features examples\n",
    "features_init = np.array([\n",
    "                         [0., 0., 1., 1., 0., 0., 0., 0., 0.],\n",
    "                         [0., 1., 0., 0., 1., 0., 0., 0., 0.],\n",
    "                         [0., 0., 0., 0., 0., 1., 1., 0., 0.],\n",
    "                         [0., 1., 0., 0., 0., 0., 0., 1., 0.]\n",
    "                         ], dtype='float32')\n",
    "\n",
    "result_next_feat = np.array([\n",
    "                            [0., 0.6666667, 0., 0., 0.33333334, 0.33333334, 0.33333334, 0.33333334, 0.],\n",
    "                            [0., 1., 0., 0., 0., 0., 0., 1., 0.],\n",
    "                            [0., 1., 0., 0., 1., 0., 0., 0., 0.],\n",
    "                            [0., 0., 0., 0., 0., 0., 0., 0., 0.]\n",
    "                            ], dtype='float32')\n",
    "\n",
    "edgelist_ten = K.variable(value=edgelist, dtype='float32')\n",
    "fv_init_ten = K.variable(value=features_init, dtype='float32')\n",
    "result_feat_ten = K.variable(value=result_next_feat, dtype='float32')\n",
    "next_t, prev_t = GetKerasNAP(edgelist_ten)\n",
    "\n",
    "test_in = [next_t, fv_init_ten]\n",
    "\n",
    "print(\"Test1:\", KerasEval(test_in[0]), '\\n\\n')\n",
    "print(\"Test2:\", KerasEval(test_in[1]))"
   ]
  },
  {
   "cell_type": "code",
   "execution_count": null,
   "metadata": {},
   "outputs": [],
   "source": []
  }
 ],
 "metadata": {
  "kernelspec": {
   "display_name": "Python 3",
   "language": "python",
   "name": "python3"
  },
  "language_info": {
   "codemirror_mode": {
    "name": "ipython",
    "version": 3
   },
   "file_extension": ".py",
   "mimetype": "text/x-python",
   "name": "python",
   "nbconvert_exporter": "python",
   "pygments_lexer": "ipython3",
   "version": "3.6.5"
  }
 },
 "nbformat": 4,
 "nbformat_minor": 2
}
